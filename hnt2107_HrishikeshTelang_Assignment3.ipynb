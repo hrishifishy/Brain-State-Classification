{
 "cells": [
  {
   "cell_type": "code",
   "execution_count": 1,
   "metadata": {},
   "outputs": [],
   "source": [
    "import numpy as np\n",
    "import pandas as pd\n",
    "from scipy import io\n",
    "from sklearn.decomposition import PCA\n",
    "from sklearn.svm import SVC\n",
    "from sklearn.model_selection import train_test_split\n",
    "from sklearn.metrics import accuracy_score"
   ]
  },
  {
   "cell_type": "markdown",
   "metadata": {},
   "source": [
    "# SES-TEST"
   ]
  },
  {
   "cell_type": "markdown",
   "metadata": {},
   "source": [
    "### SES-TEST without PCA"
   ]
  },
  {
   "cell_type": "code",
   "execution_count": 2,
   "metadata": {},
   "outputs": [
    {
     "name": "stdout",
     "output_type": "stream",
     "text": [
      "Test data shape: (64, 64, 30, 184)\n",
      "Mask shape: (64, 64, 30)\n",
      "Feature vector shape: (184, 122880)\n",
      "0.75\n",
      "1.0\n",
      "0.875\n",
      "1.0\n",
      "0.866666666667\n",
      "1.0\n",
      "0.866666666667\n",
      "0.933333333333\n",
      "0.866666666667\n",
      "0.933333333333\n",
      "0.866666666667\n",
      "1.0\n",
      "Average 12-Fold Cross Validation Score for ses-test data (without PCA): 0.913194444444\n"
     ]
    }
   ],
   "source": [
    "#load data\n",
    "data = io.loadmat('data.mat')\n",
    "print(\"Test data shape:\",data['imgData'].shape)\n",
    "train=data['imgData']\n",
    "\n",
    "#load labels\n",
    "labels = io.loadmat('label.mat')['label']\n",
    "\n",
    "#load mask\n",
    "mask=io.loadmat('600trainmask.mat')\n",
    "m=mask['imgData']\n",
    "print(\"Mask shape:\",m.shape)\n",
    "\n",
    "#extract features\n",
    "features=[]\n",
    "for i in range(184):\n",
    "    vol=train[:, :, :, i]\n",
    "    op=m*vol\n",
    "    features.append(op)\n",
    "\n",
    "#convert to 1-D vector\n",
    "one_d=[]\n",
    "for i in range(184):\n",
    "    c=features[i].flatten()\n",
    "    one_d.append(c)\n",
    "\n",
    "X=one_d\n",
    "l=labels.ravel()\n",
    "X=np.array(one_d)\n",
    "print(\"Feature vector shape:\",X.shape)\n",
    "\n",
    "from sklearn.model_selection import KFold\n",
    "\n",
    "#Perform k-fold cross validation\n",
    "kfold = KFold(12, True, 1)\n",
    "sums=0\n",
    "for train, test in kfold.split(one_d):\n",
    "    X_train=X[train]\n",
    "    X_test=X[test]\n",
    "    Y_train=l[train]\n",
    "    Y_test=l[test]\n",
    "    model = SVC(C=110, cache_size=400, class_weight=None, coef0=1.0,decision_function_shape='ovr', degree=114, gamma=0.2, kernel='linear',max_iter=-1, probability=False, random_state=42, shrinking=False,tol=0.01, verbose=False)\n",
    "    model.fit(X_train,Y_train)\n",
    "    predicted = model.predict(X_test)\n",
    "    score = model.score(X_test,Y_test)\n",
    "    print(score)\n",
    "    sums=sums+score\n",
    "print(\"Average 12-Fold Cross Validation Score for ses-test data (without PCA):\",sums/12)\n"
   ]
  },
  {
   "cell_type": "markdown",
   "metadata": {},
   "source": [
    "### SES-TEST with PCA"
   ]
  },
  {
   "cell_type": "code",
   "execution_count": 3,
   "metadata": {},
   "outputs": [
    {
     "name": "stdout",
     "output_type": "stream",
     "text": [
      "0.6875\n",
      "0.9375\n",
      "0.875\n",
      "1.0\n",
      "0.8\n",
      "1.0\n",
      "0.8\n",
      "0.866666666667\n",
      "0.866666666667\n",
      "0.933333333333\n",
      "0.733333333333\n",
      "0.933333333333\n",
      "Average 12-Fold Cross Validation Score for ses-test data (with PCA): 0.869444444444\n"
     ]
    }
   ],
   "source": [
    "kfold = KFold(12, True, 1)\n",
    "sums=0\n",
    "\n",
    "for train, test in kfold.split(one_d):\n",
    "    X_train=X[train]\n",
    "    X_test=X[test]\n",
    "    Y_train=l[train]\n",
    "    Y_test=l[test]\n",
    "    pca = PCA(n_components=90)\n",
    "    pca.fit(X_train)\n",
    "    X_pca_train = pca.transform(X_train)\n",
    "    X_pca_test = pca.transform(X_test)\n",
    "    model = SVC(C=110, cache_size=400, class_weight=None, coef0=1.0,decision_function_shape='ovr', degree=114, gamma=0.2, kernel='linear',max_iter=-1, probability=False, random_state=42, shrinking=False,tol=0.01, verbose=False)\n",
    "    model.fit(X_pca_train,Y_train)\n",
    "    predicted = model.predict(X_pca_test)\n",
    "    score = model.score(X_pca_test,Y_test)\n",
    "    print(score)\n",
    "    sums=sums+score\n",
    "print(\"Average 12-Fold Cross Validation Score for ses-test data (with PCA):\",sums/12)"
   ]
  },
  {
   "cell_type": "markdown",
   "metadata": {},
   "source": [
    "# SES-RETEST"
   ]
  },
  {
   "cell_type": "markdown",
   "metadata": {},
   "source": [
    "### SES-RETEST without PCA"
   ]
  },
  {
   "cell_type": "code",
   "execution_count": 4,
   "metadata": {},
   "outputs": [
    {
     "name": "stdout",
     "output_type": "stream",
     "text": [
      "Retest data shape: (64, 64, 30, 184)\n",
      "Mask shape: (64, 64, 30)\n",
      "Feature vector shape: (184, 122880)\n",
      "0.6875\n",
      "0.6875\n",
      "0.875\n",
      "0.8125\n",
      "0.8\n",
      "0.733333333333\n",
      "0.733333333333\n",
      "0.8\n",
      "0.733333333333\n",
      "0.866666666667\n",
      "0.933333333333\n",
      "1.0\n",
      "Average 12-Fold Cross Validation Score for ses-retest data (without PCA): 0.805208333333\n"
     ]
    }
   ],
   "source": [
    "data = io.loadmat('datatest.mat')\n",
    "print(\"Retest data shape:\",data['imgData'].shape)\n",
    "test=data['imgData']\n",
    "\n",
    "labels = io.loadmat('label.mat')['label']\n",
    "\n",
    "masktest=io.loadmat('600.mat')\n",
    "m=masktest['imgData']\n",
    "print(\"Mask shape:\",m.shape)\n",
    "\n",
    "features_test=[]\n",
    "for i in range(184):\n",
    "    vol=test[:, :, :, i]\n",
    "    op=m*vol\n",
    "    features_test.append(op)\n",
    "\n",
    "\n",
    "one_d_test=[]\n",
    "for i in range(184):\n",
    "    c=features_test[i].flatten()\n",
    "    one_d_test.append(c)\n",
    "\n",
    "X=one_d_test\n",
    "l=labels.ravel()\n",
    "X=np.array(one_d_test)\n",
    "print(\"Feature vector shape:\",X.shape)\n",
    "\n",
    "from sklearn.model_selection import KFold\n",
    "\n",
    "kfold = KFold(12, True, 1)\n",
    "sums=0\n",
    "for train, test in kfold.split(one_d):\n",
    "    X_train=X[train]\n",
    "    X_test=X[test]\n",
    "    Y_train=l[train]\n",
    "    Y_test=l[test]\n",
    "    model = SVC(C=110, cache_size=400, class_weight=None, coef0=1.0,decision_function_shape='ovr', degree=114, gamma=0.2, kernel='linear',max_iter=-1, probability=False, random_state=42, shrinking=False,tol=0.01, verbose=False)\n",
    "    model.fit(X_train,Y_train)\n",
    "    predicted = model.predict(X_test)\n",
    "    score = model.score(X_test,Y_test)\n",
    "    print(score)\n",
    "    sums=sums+score\n",
    "print(\"Average 12-Fold Cross Validation Score for ses-retest data (without PCA):\",sums/12)"
   ]
  },
  {
   "cell_type": "markdown",
   "metadata": {},
   "source": [
    "### SES-RETEST with PCA "
   ]
  },
  {
   "cell_type": "code",
   "execution_count": 5,
   "metadata": {},
   "outputs": [
    {
     "name": "stdout",
     "output_type": "stream",
     "text": [
      "0.75\n",
      "0.75\n",
      "0.75\n",
      "0.75\n",
      "0.8\n",
      "0.733333333333\n",
      "0.866666666667\n",
      "0.733333333333\n",
      "0.733333333333\n",
      "0.933333333333\n",
      "0.933333333333\n",
      "1.0\n",
      "Average 12-Fold Cross Validation Score for ses-retest data (with PCA): 0.811111111111\n"
     ]
    }
   ],
   "source": [
    "kfold = KFold(12, True, 1)\n",
    "sums=0\n",
    "\n",
    "for train, test in kfold.split(one_d):\n",
    "    X_train=X[train]\n",
    "    X_test=X[test]\n",
    "    Y_train=l[train]\n",
    "    Y_test=l[test]\n",
    "    pca = PCA(n_components=120)\n",
    "    pca.fit(X_train)\n",
    "    X_pca_train = pca.transform(X_train)\n",
    "    X_pca_test = pca.transform(X_test)\n",
    "    model = SVC(C=110, cache_size=400, class_weight=None, coef0=1.0,decision_function_shape='ovr', degree=114, gamma=0.2, kernel='linear',max_iter=-1, probability=False, random_state=42, shrinking=False,tol=0.01, verbose=False)\n",
    "    model.fit(X_pca_train,Y_train)\n",
    "    predicted = model.predict(X_pca_test)\n",
    "    score = model.score(X_pca_test,Y_test)\n",
    "    print(score)\n",
    "    sums=sums+score\n",
    "print(\"Average 12-Fold Cross Validation Score for ses-retest data (with PCA):\",sums/12)"
   ]
  },
  {
   "cell_type": "code",
   "execution_count": null,
   "metadata": {},
   "outputs": [],
   "source": []
  }
 ],
 "metadata": {
  "kernelspec": {
   "display_name": "Python 3",
   "language": "python",
   "name": "python3"
  },
  "language_info": {
   "codemirror_mode": {
    "name": "ipython",
    "version": 3
   },
   "file_extension": ".py",
   "mimetype": "text/x-python",
   "name": "python",
   "nbconvert_exporter": "python",
   "pygments_lexer": "ipython3",
   "version": "3.5.5"
  }
 },
 "nbformat": 4,
 "nbformat_minor": 2
}
