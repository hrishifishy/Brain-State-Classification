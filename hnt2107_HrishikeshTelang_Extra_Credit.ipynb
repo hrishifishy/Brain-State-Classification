{
 "cells": [
  {
   "cell_type": "code",
   "execution_count": 1,
   "metadata": {},
   "outputs": [],
   "source": [
    "import numpy as np\n",
    "import pandas as pd\n",
    "from scipy import io\n",
    "from sklearn.decomposition import PCA\n",
    "from sklearn.svm import SVC\n",
    "from sklearn.model_selection import train_test_split\n",
    "from sklearn.metrics import accuracy_score"
   ]
  },
  {
   "cell_type": "code",
   "execution_count": 2,
   "metadata": {},
   "outputs": [
    {
     "name": "stdout",
     "output_type": "stream",
     "text": [
      "(64, 64, 30, 184)\n"
     ]
    }
   ],
   "source": [
    "data = io.loadmat('data.mat')\n",
    "print(data['imgData'].shape)\n",
    "train=data['imgData']"
   ]
  },
  {
   "cell_type": "code",
   "execution_count": 3,
   "metadata": {},
   "outputs": [],
   "source": [
    "labels = io.loadmat('label.mat')['label']"
   ]
  },
  {
   "cell_type": "code",
   "execution_count": 4,
   "metadata": {},
   "outputs": [
    {
     "data": {
      "text/plain": [
       "(64, 64, 30)"
      ]
     },
     "execution_count": 4,
     "metadata": {},
     "output_type": "execute_result"
    }
   ],
   "source": [
    "mask=io.loadmat('600trainmask.mat')\n",
    "m=mask['imgData']\n",
    "m.shape"
   ]
  },
  {
   "cell_type": "code",
   "execution_count": 5,
   "metadata": {},
   "outputs": [
    {
     "data": {
      "text/plain": [
       "(122880,)"
      ]
     },
     "execution_count": 5,
     "metadata": {},
     "output_type": "execute_result"
    }
   ],
   "source": [
    "features=[]\n",
    "for i in range(184):\n",
    "    vol=train[:, :, :, i]\n",
    "    op=m*vol\n",
    "    features.append(op)\n",
    "len(features) \n",
    "\n",
    "one_d=[]\n",
    "for i in range(184):\n",
    "    c=features[i].flatten()\n",
    "    one_d.append(c)\n",
    "len(one_d)\n",
    "one_d[0].shape"
   ]
  },
  {
   "cell_type": "code",
   "execution_count": 6,
   "metadata": {},
   "outputs": [
    {
     "data": {
      "text/plain": [
       "(122880,)"
      ]
     },
     "execution_count": 6,
     "metadata": {},
     "output_type": "execute_result"
    }
   ],
   "source": [
    "testdata = io.loadmat('datatest.mat')\n",
    "test=testdata['imgData']\n",
    "\n",
    "testmask=io.loadmat('600.mat')\n",
    "mtest=testmask['imgData']\n",
    "\n",
    "\n",
    "features_test=[]\n",
    "for i in range(184):\n",
    "    vol2=test[:, :, :, i]\n",
    "    op2=mtest*vol2\n",
    "    features_test.append(op2)\n",
    "\n",
    "one_d_test=[]\n",
    "for i in range(184):\n",
    "    c2=features_test[i].flatten()\n",
    "    one_d_test.append(c2)\n",
    "one_d_test[0].shape"
   ]
  },
  {
   "cell_type": "code",
   "execution_count": 7,
   "metadata": {},
   "outputs": [],
   "source": [
    "l=labels.ravel()\n",
    "X_test=np.array(one_d_test)\n",
    "X_train=np.array(one_d)\n",
    "Y_train=l\n",
    "Y_test=l"
   ]
  },
  {
   "cell_type": "code",
   "execution_count": 8,
   "metadata": {},
   "outputs": [
    {
     "name": "stdout",
     "output_type": "stream",
     "text": [
      "0.510869565217\n"
     ]
    }
   ],
   "source": [
    "model = SVC(C=50, cache_size=400, class_weight=None, coef0=1.0,decision_function_shape='ovr', degree=120, gamma=0.8, kernel='linear',max_iter=-1, probability=False, random_state=42, shrinking=False,tol=0.01, verbose=False)\n",
    "model.fit(X_train,Y_train)\n",
    "y_pred = model.predict(X_test)\n",
    "score = model.score(X_test,Y_test)\n",
    "print(score)"
   ]
  },
  {
   "cell_type": "code",
   "execution_count": 9,
   "metadata": {},
   "outputs": [
    {
     "name": "stdout",
     "output_type": "stream",
     "text": [
      "0.516304347826\n"
     ]
    }
   ],
   "source": [
    "pca = PCA(n_components=100)\n",
    "pca.fit(X_train)\n",
    "pca_train = pca.transform(X_train)\n",
    "pca_test = pca.transform(X_test)\n",
    "model2 = SVC(C=110, cache_size=400, class_weight=None, coef0=1.0,decision_function_shape='ovr', degree=120, gamma=0.2, kernel='linear',max_iter=-1, probability=False, random_state=42, shrinking=False,tol=0.01, verbose=False)\n",
    "model2.fit(pca_train,Y_train)\n",
    "predicted = model2.predict(pca_test)\n",
    "score2 = model2.score(pca_test,Y_test)\n",
    "print(score2)"
   ]
  },
  {
   "cell_type": "code",
   "execution_count": null,
   "metadata": {},
   "outputs": [],
   "source": []
  }
 ],
 "metadata": {
  "kernelspec": {
   "display_name": "Python 3",
   "language": "python",
   "name": "python3"
  },
  "language_info": {
   "codemirror_mode": {
    "name": "ipython",
    "version": 3
   },
   "file_extension": ".py",
   "mimetype": "text/x-python",
   "name": "python",
   "nbconvert_exporter": "python",
   "pygments_lexer": "ipython3",
   "version": "3.5.5"
  }
 },
 "nbformat": 4,
 "nbformat_minor": 2
}
